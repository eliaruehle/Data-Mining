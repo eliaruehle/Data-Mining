{
 "cells": [
  {
   "attachments": {},
   "cell_type": "markdown",
   "metadata": {},
   "source": [
    "1. Lese die `EXP_UNIQUE_ID` aus und finde die korrespondierende Hyperparamerterkonfiguration in `05_done_workloads.csv`\n",
    "2. Nehme nur diejenigen Reihen auf, welche eine `EXP_BATCH_SIZE` von **5** haben (es gilt: `EXP_BATCH_SIZE` kann nur folgende Werte einnehmen `[1,5,10]`)\n",
    "3. Prüfe ob alle selektierten Dataframes nur Werte ≠ `NaN` beinhalten, wenn nicht, interpoliere die zu füllenden Einträge\n",
    "   auf Grundlage unserer gewähten Interpolationsstrategie **(TODO)**\n",
    "4. Führe mit allen Datenvektoren PCA durch um eine Dimensionsreduktion zu erzielen (beschleunigt Clustering) \n",
    "   $\\rightarrow$ Dimensionen sollten danach für alle Datenvektoren gleich sein! \n",
    "5. Führe ein k-means Clustering durch, experimentiere dabei mit verschieden großen k um \"bestes\" Clustering zu finden\n",
    "6. Führe ein Clustering durch, welches **OHNE** vorherige Initialisierung der Clusteranzahl und ähnliches auskommt\n",
    "   $\\rightarrow$ (**TODO:** Recherche welche Strategie)"
   ]
  },
  {
   "cell_type": "code",
   "execution_count": null,
   "metadata": {},
   "outputs": [],
   "source": [
    "import pandas as pd\n",
    "\n",
    "ALL_CSV_FILES:list[str] = list()    # should contain the relative path to all data files\n",
    "\n",
    "df = pd.read_csv(\"kp_test/ALIPY_RANDOM/Iris/accuracy.csv.xz\")   # read in the compressed csv file trough pandas library\n",
    "df.head()           # prints the first entries of the data frames"
   ]
  }
 ],
 "metadata": {
  "kernelspec": {
   "display_name": "Python 3",
   "language": "python",
   "name": "python3"
  },
  "language_info": {
   "codemirror_mode": {
    "name": "ipython",
    "version": 3
   },
   "file_extension": ".py",
   "mimetype": "text/x-python",
   "name": "python",
   "nbconvert_exporter": "python",
   "pygments_lexer": "ipython3",
   "version": "3.11.3"
  },
  "orig_nbformat": 4
 },
 "nbformat": 4,
 "nbformat_minor": 2
}
